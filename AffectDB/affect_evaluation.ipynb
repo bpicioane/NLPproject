{
 "cells": [
  {
   "cell_type": "code",
   "execution_count": 2,
   "id": "40860244",
   "metadata": {},
   "outputs": [],
   "source": [
    "import pandas as pd\n",
    "import numpy as np"
   ]
  },
  {
   "cell_type": "code",
   "execution_count": 3,
   "id": "14b1e047",
   "metadata": {},
   "outputs": [
    {
     "data": {
      "text/html": [
       "<div>\n",
       "<style scoped>\n",
       "    .dataframe tbody tr th:only-of-type {\n",
       "        vertical-align: middle;\n",
       "    }\n",
       "\n",
       "    .dataframe tbody tr th {\n",
       "        vertical-align: top;\n",
       "    }\n",
       "\n",
       "    .dataframe thead th {\n",
       "        text-align: right;\n",
       "    }\n",
       "</style>\n",
       "<table border=\"1\" class=\"dataframe\">\n",
       "  <thead>\n",
       "    <tr style=\"text-align: right;\">\n",
       "      <th></th>\n",
       "      <th>Unnamed: 0.2</th>\n",
       "      <th>Unnamed: 0.1</th>\n",
       "      <th>Unnamed: 0</th>\n",
       "      <th>lastfm_url</th>\n",
       "      <th>track</th>\n",
       "      <th>artist</th>\n",
       "      <th>seeds</th>\n",
       "      <th>number_of_emotion_tags</th>\n",
       "      <th>valence_tags</th>\n",
       "      <th>arousal_tags</th>\n",
       "      <th>dominance_tags</th>\n",
       "      <th>mbid</th>\n",
       "      <th>spotify_id</th>\n",
       "      <th>genre</th>\n",
       "      <th>lyrics</th>\n",
       "      <th>binary_valence</th>\n",
       "      <th>calculatedValence</th>\n",
       "      <th>calculatedDominance</th>\n",
       "      <th>calculatedArousal</th>\n",
       "    </tr>\n",
       "  </thead>\n",
       "  <tbody>\n",
       "    <tr>\n",
       "      <th>0</th>\n",
       "      <td>0</td>\n",
       "      <td>0</td>\n",
       "      <td>2949</td>\n",
       "      <td>https://www.last.fm/music/skywave/_/another%2b...</td>\n",
       "      <td>Another Love</td>\n",
       "      <td>Skywave</td>\n",
       "      <td>['explosive', 'euphoric']</td>\n",
       "      <td>5</td>\n",
       "      <td>5.440000</td>\n",
       "      <td>4.582000</td>\n",
       "      <td>4.548000</td>\n",
       "      <td>3eba75ff-50d1-48eb-b39f-2e1e456c0847</td>\n",
       "      <td>NaN</td>\n",
       "      <td>shoegaze</td>\n",
       "      <td>[Intro]\\nIt's Rittz, bitch\\n\\n[Verse 1]\\nI can...</td>\n",
       "      <td>1</td>\n",
       "      <td>5.828876</td>\n",
       "      <td>5.634538</td>\n",
       "      <td>4.164418</td>\n",
       "    </tr>\n",
       "    <tr>\n",
       "      <th>1</th>\n",
       "      <td>1</td>\n",
       "      <td>1</td>\n",
       "      <td>65958</td>\n",
       "      <td>https://www.last.fm/music/neneh%2bcherry/_/pea...</td>\n",
       "      <td>Peace In Mind</td>\n",
       "      <td>Neneh Cherry</td>\n",
       "      <td>['reflective']</td>\n",
       "      <td>4</td>\n",
       "      <td>4.841667</td>\n",
       "      <td>2.815000</td>\n",
       "      <td>4.950000</td>\n",
       "      <td>05011436-be05-433d-b7d1-405f14b45838</td>\n",
       "      <td>3qij053VLKWDprTlF6REDl</td>\n",
       "      <td>trip-hop</td>\n",
       "      <td>I've got a little piece of mind\\nFrom the comf...</td>\n",
       "      <td>0</td>\n",
       "      <td>6.093000</td>\n",
       "      <td>5.622000</td>\n",
       "      <td>4.091375</td>\n",
       "    </tr>\n",
       "    <tr>\n",
       "      <th>2</th>\n",
       "      <td>2</td>\n",
       "      <td>2</td>\n",
       "      <td>43234</td>\n",
       "      <td>https://www.last.fm/music/adam%2bgreen/_/goblin</td>\n",
       "      <td>Goblin</td>\n",
       "      <td>Adam Green</td>\n",
       "      <td>['silly']</td>\n",
       "      <td>1</td>\n",
       "      <td>6.720000</td>\n",
       "      <td>4.860000</td>\n",
       "      <td>6.500000</td>\n",
       "      <td>93f50361-0581-4dd6-a294-93ca5bef904f</td>\n",
       "      <td>122tMrH7PcUWMN4AcklyU0</td>\n",
       "      <td>folk</td>\n",
       "      <td>When she stopped talking to me\\nI knew that sh...</td>\n",
       "      <td>1</td>\n",
       "      <td>5.738000</td>\n",
       "      <td>5.548000</td>\n",
       "      <td>4.086800</td>\n",
       "    </tr>\n",
       "    <tr>\n",
       "      <th>3</th>\n",
       "      <td>3</td>\n",
       "      <td>3</td>\n",
       "      <td>5766</td>\n",
       "      <td>https://www.last.fm/music/ceremony/_/i%2bwant%...</td>\n",
       "      <td>I Want To Put This To An End</td>\n",
       "      <td>Ceremony</td>\n",
       "      <td>['intense']</td>\n",
       "      <td>2</td>\n",
       "      <td>3.995000</td>\n",
       "      <td>6.135000</td>\n",
       "      <td>4.585000</td>\n",
       "      <td>3b09dada-b877-4bda-b35a-34a1d28b1461</td>\n",
       "      <td>3HBwKXoQnPdi8Tzmioiwyv</td>\n",
       "      <td>hardcore</td>\n",
       "      <td>My heart beats in slow songs, pumping moments ...</td>\n",
       "      <td>0</td>\n",
       "      <td>5.382264</td>\n",
       "      <td>5.339811</td>\n",
       "      <td>4.143774</td>\n",
       "    </tr>\n",
       "    <tr>\n",
       "      <th>4</th>\n",
       "      <td>4</td>\n",
       "      <td>4</td>\n",
       "      <td>61410</td>\n",
       "      <td>https://www.last.fm/music/beyond%2bcreation/_/...</td>\n",
       "      <td>Coexistence</td>\n",
       "      <td>Beyond Creation</td>\n",
       "      <td>['technical']</td>\n",
       "      <td>2</td>\n",
       "      <td>5.693333</td>\n",
       "      <td>5.476275</td>\n",
       "      <td>6.390392</td>\n",
       "      <td>e4348ebc-97f2-4bcb-af2e-2998d0fae905</td>\n",
       "      <td>3TfnNa2rOCuGZi4IBWtYVE</td>\n",
       "      <td>technical death metal</td>\n",
       "      <td>When the universal darkness is covering the ea...</td>\n",
       "      <td>1</td>\n",
       "      <td>5.810159</td>\n",
       "      <td>5.637222</td>\n",
       "      <td>4.049206</td>\n",
       "    </tr>\n",
       "  </tbody>\n",
       "</table>\n",
       "</div>"
      ],
      "text/plain": [
       "   Unnamed: 0.2  Unnamed: 0.1  Unnamed: 0  \\\n",
       "0             0             0        2949   \n",
       "1             1             1       65958   \n",
       "2             2             2       43234   \n",
       "3             3             3        5766   \n",
       "4             4             4       61410   \n",
       "\n",
       "                                          lastfm_url  \\\n",
       "0  https://www.last.fm/music/skywave/_/another%2b...   \n",
       "1  https://www.last.fm/music/neneh%2bcherry/_/pea...   \n",
       "2    https://www.last.fm/music/adam%2bgreen/_/goblin   \n",
       "3  https://www.last.fm/music/ceremony/_/i%2bwant%...   \n",
       "4  https://www.last.fm/music/beyond%2bcreation/_/...   \n",
       "\n",
       "                          track           artist                      seeds  \\\n",
       "0                  Another Love          Skywave  ['explosive', 'euphoric']   \n",
       "1                 Peace In Mind     Neneh Cherry             ['reflective']   \n",
       "2                        Goblin       Adam Green                  ['silly']   \n",
       "3  I Want To Put This To An End         Ceremony                ['intense']   \n",
       "4                   Coexistence  Beyond Creation              ['technical']   \n",
       "\n",
       "   number_of_emotion_tags  valence_tags  arousal_tags  dominance_tags  \\\n",
       "0                       5      5.440000      4.582000        4.548000   \n",
       "1                       4      4.841667      2.815000        4.950000   \n",
       "2                       1      6.720000      4.860000        6.500000   \n",
       "3                       2      3.995000      6.135000        4.585000   \n",
       "4                       2      5.693333      5.476275        6.390392   \n",
       "\n",
       "                                   mbid              spotify_id  \\\n",
       "0  3eba75ff-50d1-48eb-b39f-2e1e456c0847                     NaN   \n",
       "1  05011436-be05-433d-b7d1-405f14b45838  3qij053VLKWDprTlF6REDl   \n",
       "2  93f50361-0581-4dd6-a294-93ca5bef904f  122tMrH7PcUWMN4AcklyU0   \n",
       "3  3b09dada-b877-4bda-b35a-34a1d28b1461  3HBwKXoQnPdi8Tzmioiwyv   \n",
       "4  e4348ebc-97f2-4bcb-af2e-2998d0fae905  3TfnNa2rOCuGZi4IBWtYVE   \n",
       "\n",
       "                   genre                                             lyrics  \\\n",
       "0               shoegaze  [Intro]\\nIt's Rittz, bitch\\n\\n[Verse 1]\\nI can...   \n",
       "1               trip-hop  I've got a little piece of mind\\nFrom the comf...   \n",
       "2                   folk  When she stopped talking to me\\nI knew that sh...   \n",
       "3               hardcore  My heart beats in slow songs, pumping moments ...   \n",
       "4  technical death metal  When the universal darkness is covering the ea...   \n",
       "\n",
       "   binary_valence  calculatedValence  calculatedDominance  calculatedArousal  \n",
       "0               1           5.828876             5.634538           4.164418  \n",
       "1               0           6.093000             5.622000           4.091375  \n",
       "2               1           5.738000             5.548000           4.086800  \n",
       "3               0           5.382264             5.339811           4.143774  \n",
       "4               1           5.810159             5.637222           4.049206  "
      ]
     },
     "execution_count": 3,
     "metadata": {},
     "output_type": "execute_result"
    }
   ],
   "source": [
    "df = pd.read_csv('calculated.csv')\n",
    "df.head()"
   ]
  },
  {
   "cell_type": "code",
   "execution_count": 12,
   "id": "583cd106",
   "metadata": {},
   "outputs": [],
   "source": [
    "errorsV = [(song['calculatedValence'] - song['valence_tags']) ** 2 for _, song in df.iterrows()]\n",
    "errorsD = [(song['calculatedDominance'] - song['dominance_tags']) ** 2 for _, song in df.iterrows()]\n",
    "errorsA = [(song['calculatedArousal'] - song['arousal_tags']) ** 2 for _, song in df.iterrows()]\n"
   ]
  },
  {
   "cell_type": "code",
   "execution_count": 16,
   "id": "b1489ba3",
   "metadata": {},
   "outputs": [],
   "source": [
    "RMSEs = {'valence': np.mean(errorsV) ** 0.5, 'dominance': np.mean(errorsD) ** 0.5, 'arousal':np.mean(errorsA) ** 0.5}"
   ]
  },
  {
   "cell_type": "code",
   "execution_count": 17,
   "id": "62fa4d16",
   "metadata": {},
   "outputs": [
    {
     "name": "stdout",
     "output_type": "stream",
     "text": [
      "{'valence': 1.5559954711688595, 'dominance': 1.1720475613734351, 'arousal': 1.177999177277437}\n"
     ]
    }
   ],
   "source": [
    "print(RMSEs)"
   ]
  },
  {
   "cell_type": "code",
   "execution_count": 27,
   "id": "0bef97bd",
   "metadata": {},
   "outputs": [
    {
     "name": "stdout",
     "output_type": "stream",
     "text": [
      "['sad', 'neofolk', 'k-pop', 'world fusion', 'alternative metal', 'folktronica', 'nerdcore', 'synthpop', 'grindcore', 'ambient pop', 'alternative', 'indie pop', 'rock en espanol', 'indie', 'ska punk', 'dark folk', 'new wave', 'smooth jazz', 'post-punk', 'summer', 'chamber pop', 'melodic hard rock', 'new age', 'german rock', 'uk garage', 'mathcore', 'ukulele', 'pop rock', 'jam band', 'reggae', 'house', 'poetry', 'didgeridoo', 'hip hop', 'death metal', 'avant-garde', 'bluegrass', 'chill', 'screamo', 'electro-industrial', 'lilith', 'hip-hop', 'spoken word', 'witch house', 'hardcore', 'folk metal', 'rock', 'alternative pop', 'futurepop', 'a cappella', 'space rock', 'rockabilly', 'post-rock', 'stoner rock', 'glam metal', 'new jack swing', 'zeuhl', 'lounge', 'qawwali', 'roots rock', 'neo soul', 'cabaret', 'french', 'no wave', 'cyberpunk', 'funk', 'worship', 'r&b', 'slowcore', 'comedy', 'noise pop', 'electronic', 'deathrock', 'horror punk', '8-bit', 'chillwave', 'blues rock', 'aggrotech', 'northern soul', 'psychedelic rock', 'indian', 'black metal', 'drone', 'glam rock', 'techno', 'drum and bass', 'hard rock', 'downtempo', 'christian music', 'indie folk', 'art pop', 'electroclash', 'german', 'mantra', 'punk', 'flamenco', 'dream pop', 'boy band', 'beats', 'neoclassical darkwave', 'indie rock', 'canadian rock', 'swedish', 'country', 'lo-fi', 'power pop', 'country rock', 'british', 'metal', 'melodic death metal', 'grunge', 'houston rap', 'rave', 'cosmic american', 'free jazz', 'new romantic', 'britpop', 'underground hip hop', 'rhythm and blues', 'technical death metal', 'nu jazz', 'sleep', 'brazilian rock', 'celtic', 'halloween', 'comic', 'garage', 'ambient', 'latin pop', 'piano', 'noise rock', 'gothic rock', 'skate punk', 'ccm', 'post-metal', 'pop rap', 'shoegaze', 'symphonic death metal', 'gospel', 'breakbeat', 'jazz', 'christian rock', 'idm', 'chanson', 'disney', 'oshare kei', 'djent', 'progressive rock', 'post-hardcore', 'spanish', 'classic rock', 'pop punk', 'martial industrial', 'progressive house', 'ritual ambient', 'deep house', 'swing', 'melodic metal', 'acid jazz', 'industrial hip hop', 'dance', 'noise', 'melodic hardcore', 'salsa', 'electropop', 'hard trance', 'singer-songwriter', 'nederpop', 'sludge metal', 'thrash metal', 'math rock', 'industrial rock', 'southern rock', 'reggaeton', 'happy', 'samba', 'industrial metal', 'exotica', 'blues', 'medieval', 'new weird america', 'easy listening', 'depressive black metal', 'folk punk', 'industrial', 'art rock', 'electronica', 'novelty', 'metalcore', 'garage rock', 'meditation', 'power metal', 'piano rock', 'romance', 'sufi', 'alternative rock', 'ostrock', 'ebm', 'indietronica', 'dark ambient', 'deathcore', 'disco', 'emo', 'guitar', 'chill out', 'soul', 'dubstep', 'ska', 'oi', 'cello', 'freak folk', 'soundtrack', 'goth', 'party', 'folk', 'gothic metal', 'mpb', 'tango', 'lullaby', 'avant-garde metal', 'crunk', 'pop', 'trip-hop', 'folk rock', 'free improvisation', 'big beat', 'latin', 'motown', 'choral', 'psychobilly', 'eurovision', 'darkstep', 'electro', 'j-rock', 'dark electro', 'opera', 'world', 'psychill', 'speedcore', 'symphonic metal', 'breaks', 'nu metal', 'progressive metal', 'bossa nova', 'doom metal', 'anime', 'acoustic', 'quiet storm', 'digital hardcore', 'dark cabaret', 'hardcore punk', 'trance', 'soft rock', 'experimental', 'breakcore', 'j-pop', 'classical', 'rap', 'songwriter', 'anti-folk', 'violin']\n"
     ]
    }
   ],
   "source": [
    "genres = set(df['genre'].tolist())\n",
    "genres = [genre for genre in genres if genre == genre]\n",
    "print(genres)"
   ]
  },
  {
   "cell_type": "code",
   "execution_count": 35,
   "id": "79c1b5f2",
   "metadata": {},
   "outputs": [
    {
     "name": "stdout",
     "output_type": "stream",
     "text": [
      "['alternative metal', 'rock en espanol', 'melodic hard rock', 'german rock', 'pop rock', 'death metal', 'folk metal', 'rock', 'space rock', 'rockabilly', 'post-rock', 'stoner rock', 'glam metal', 'roots rock', 'deathrock', 'blues rock', 'psychedelic rock', 'black metal', 'glam rock', 'hard rock', 'indie rock', 'canadian rock', 'country rock', 'metal', 'melodic death metal', 'technical death metal', 'brazilian rock', 'noise rock', 'gothic rock', 'post-metal', 'symphonic death metal', 'christian rock', 'progressive rock', 'classic rock', 'melodic metal', 'sludge metal', 'thrash metal', 'math rock', 'industrial rock', 'southern rock', 'industrial metal', 'depressive black metal', 'art rock', 'metalcore', 'garage rock', 'power metal', 'piano rock', 'alternative rock', 'ostrock', 'gothic metal', 'avant-garde metal', 'folk rock', 'j-rock', 'symphonic metal', 'nu metal', 'progressive metal', 'doom metal', 'soft rock']\n",
      "['k-pop', 'synthpop', 'ambient pop', 'indie pop', 'chamber pop', 'pop rock', 'alternative pop', 'futurepop', 'noise pop', 'art pop', 'dream pop', 'power pop', 'britpop', 'latin pop', 'pop rap', 'pop punk', 'electropop', 'nederpop', 'pop', 'j-pop']\n",
      "['hip hop', 'houston rap', 'underground hip hop', 'pop rap', 'industrial hip hop', 'rap']\n"
     ]
    }
   ],
   "source": [
    "rockGenres = []\n",
    "for genre in genres:\n",
    "    if 'rock' in genre or 'metal' in genre:\n",
    "        rockGenres.append(genre)\n",
    "print(rockGenres)\n",
    "\n",
    "popGenres = []\n",
    "for genre in genres:\n",
    "    if 'pop' in genre:\n",
    "        popGenres.append(genre)\n",
    "print(popGenres)\n",
    "\n",
    "rapGenres = []\n",
    "for genre in genres:\n",
    "    if 'rap' in genre or 'hip hop' in genre or 'trap' in genre:\n",
    "        rapGenres.append(genre)\n",
    "print(rapGenres)"
   ]
  },
  {
   "cell_type": "code",
   "execution_count": 38,
   "id": "96e3a0e4",
   "metadata": {},
   "outputs": [
    {
     "name": "stdout",
     "output_type": "stream",
     "text": [
      "5.70487321069198\n",
      "5.775079164597889\n",
      "\n",
      "5.849121497019135\n",
      "5.747392700242456\n",
      "\n",
      "5.6655181325571\n",
      "5.760856868785295\n"
     ]
    }
   ],
   "source": [
    "avgVRock = np.mean([song['calculatedValence'] for _, song in df.iterrows() if song['genre'] in rockGenres])\n",
    "print(avgVRock)\n",
    "avgVNotRock = np.mean([song['calculatedValence'] for _, song in df.iterrows() if song['genre'] not in rockGenres])\n",
    "print(avgVNotRock)\n",
    "print()\n",
    "avgVPop = np.mean([song['calculatedValence'] for _, song in df.iterrows() if song['genre'] in popGenres])\n",
    "print(avgVPop)\n",
    "avgVNotPop = np.mean([song['calculatedValence'] for _, song in df.iterrows() if song['genre'] not in popGenres])\n",
    "print(avgVNotPop)\n",
    "print()\n",
    "avgVRap = np.mean([song['calculatedValence'] for _, song in df.iterrows() if song['genre'] in rapGenres])\n",
    "print(avgVRap)\n",
    "avgVNotRap = np.mean([song['calculatedValence'] for _, song in df.iterrows() if song['genre'] not in rapGenres])\n",
    "print(avgVNotRap)"
   ]
  },
  {
   "cell_type": "code",
   "execution_count": null,
   "id": "0319f6f4",
   "metadata": {},
   "outputs": [],
   "source": []
  }
 ],
 "metadata": {
  "kernelspec": {
   "display_name": "Python 3 (ipykernel)",
   "language": "python",
   "name": "python3"
  },
  "language_info": {
   "codemirror_mode": {
    "name": "ipython",
    "version": 3
   },
   "file_extension": ".py",
   "mimetype": "text/x-python",
   "name": "python",
   "nbconvert_exporter": "python",
   "pygments_lexer": "ipython3",
   "version": "3.9.13"
  }
 },
 "nbformat": 4,
 "nbformat_minor": 5
}
